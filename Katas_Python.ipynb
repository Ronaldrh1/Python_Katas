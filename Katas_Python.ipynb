{
 "cells": [
  {
   "cell_type": "code",
   "execution_count": 1,
   "id": "5f5a148d",
   "metadata": {},
   "outputs": [
    {
     "name": "stdout",
     "output_type": "stream",
     "text": [
      "Frecuencia de letras:\n",
      "h → 1\n",
      "o → 2\n",
      "l → 1\n",
      "a → 1\n",
      "m → 1\n",
      "u → 1\n",
      "n → 1\n",
      "d → 1\n"
     ]
    }
   ],
   "source": [
    "# 1. Función que cuenta la frecuencia de cada letra en una cadena (sin espacios)\n",
    "def frecuencia_letras(cadena):\n",
    "    cadena = cadena.replace(\" \", \"\")  # Quitamos espacios\n",
    "    frecuencias = {}\n",
    "    for letra in cadena:\n",
    "        if letra in frecuencias:\n",
    "            frecuencias[letra] += 1\n",
    "        else:\n",
    "            frecuencias[letra] = 1\n",
    "    return frecuencias\n",
    "\n",
    "resultado = frecuencia_letras(\"hola mundo\")\n",
    "print(\"Frecuencia de letras:\")\n",
    "for letra, cantidad in resultado.items():\n",
    "    print(letra, \"→\", cantidad)"
   ]
  },
  {
   "cell_type": "code",
   "execution_count": 3,
   "id": "1efcecf2",
   "metadata": {},
   "outputs": [
    {
     "name": "stdout",
     "output_type": "stream",
     "text": [
      "[2, 4, 6, 8]\n"
     ]
    }
   ],
   "source": [
    "# 2. Dada una lista de números, obtén una nueva lista con el doble de cada valor. Usa la función map()\n",
    "numeros = [1, 2, 3, 4]\n",
    "doblados = list(map(lambda x: x * 2, numeros))\n",
    "print(doblados)"
   ]
  },
  {
   "cell_type": "code",
   "execution_count": 14,
   "id": "ff14d7af",
   "metadata": {},
   "outputs": [
    {
     "name": "stdout",
     "output_type": "stream",
     "text": [
      "Palabras que contienen 'ana': ['manzana', 'banana']\n"
     ]
    }
   ],
   "source": [
    "# 3. Función que devuelve las palabras que contienen una palabra objetivo\n",
    "def buscar_palabra(lista_palabras, objetivo):\n",
    "    resultado = []\n",
    "    for palabra in lista_palabras:\n",
    "        if objetivo in palabra:\n",
    "            resultado.append(palabra)\n",
    "    return resultado\n",
    "\n",
    "print(\"Palabras que contienen 'ana':\", buscar_palabra([\"manzana\", \"banana\", \"naranja\"], \"ana\"))"
   ]
  },
  {
   "cell_type": "code",
   "execution_count": null,
   "id": "6c407567",
   "metadata": {},
   "outputs": [
    {
     "name": "stdout",
     "output_type": "stream",
     "text": [
      "\n",
      "Diferencia entre listas: [5, 5, 5]\n"
     ]
    }
   ],
   "source": [
    "# 4. Diferencia entre valores de dos listas usando map()\n",
    "lista1 = [10, 20, 30]\n",
    "lista2 = [5, 15, 25]\n",
    "diferencias = list(map(lambda x, y: x - y, lista1, lista2))\n",
    "print(\"Diferencia entre listas:\", diferencias)"
   ]
  },
  {
   "cell_type": "code",
   "execution_count": 12,
   "id": "3da443df",
   "metadata": {},
   "outputs": [
    {
     "name": "stdout",
     "output_type": "stream",
     "text": [
      "Media y estado: (5.0, 'aprobado')\n"
     ]
    }
   ],
   "source": [
    "# 5. Calcular la media y comprobar si está aprobado o suspenso (nota mínima 5 por defecto)\n",
    "def comprobar_media(numeros, nota_aprobado=5):\n",
    "    suma = 0\n",
    "    for num in numeros:\n",
    "        suma += num\n",
    "    media = suma / len(numeros)\n",
    "    if media >= nota_aprobado:\n",
    "        estado = \"aprobado\"\n",
    "    else:\n",
    "        estado = \"suspenso\"\n",
    "    return media, estado\n",
    "\n",
    "print(\"Media y estado:\", comprobar_media([4, 5, 6]))\n"
   ]
  },
  {
   "cell_type": "code",
   "execution_count": 13,
   "id": "4584bda5",
   "metadata": {},
   "outputs": [
    {
     "name": "stdout",
     "output_type": "stream",
     "text": [
      "Factorial de 5: 120\n"
     ]
    }
   ],
   "source": [
    "# 6. Calcular factorial de un número de manera recursiva\n",
    "def factorial(n):\n",
    "    if n == 0 or n == 1:\n",
    "        return 1\n",
    "    else:\n",
    "        return n * factorial(n - 1)\n",
    "\n",
    "print(\"Factorial de 5:\", factorial(5))\n"
   ]
  },
  {
   "cell_type": "code",
   "execution_count": null,
   "id": "f9ecf5e6",
   "metadata": {},
   "outputs": [
    {
     "name": "stdout",
     "output_type": "stream",
     "text": [
      "\n",
      "Lista de strings: [\"(1, 'a')\", \"(2, 'b')\"]\n"
     ]
    }
   ],
   "source": [
    "# 7. Convertir una lista de tuplas a una lista de strings usando map()\n",
    "tuplas = [(1, 'a'), (2, 'b')]\n",
    "lista_strings = list(map(lambda t: str(t), tuplas))\n",
    "print(\"Lista de strings:\", lista_strings)\n",
    "\n"
   ]
  },
  {
   "cell_type": "code",
   "execution_count": 16,
   "id": "11dee867",
   "metadata": {},
   "outputs": [
    {
     "name": "stdout",
     "output_type": "stream",
     "text": [
      " No se puede dividir entre cero.\n"
     ]
    }
   ],
   "source": [
    "# 8. Programa que pide dos números y los divide, manejando errores\n",
    "try:\n",
    "    a = float(input(\"Introduce el primer número: \"))\n",
    "    b = float(input(\"Introduce el segundo número: \"))\n",
    "    resultado = a / b\n",
    "except ValueError:\n",
    "    print(\" Debes introducir valores numéricos.\")\n",
    "except ZeroDivisionError:\n",
    "    print(\" No se puede dividir entre cero.\")\n",
    "else:\n",
    "    print(\" División exitosa:\", resultado)"
   ]
  },
  {
   "cell_type": "code",
   "execution_count": 18,
   "id": "59caab86",
   "metadata": {},
   "outputs": [
    {
     "name": "stdout",
     "output_type": "stream",
     "text": [
      "Mascotas permitidas: ['Perro', 'Gato', 'Canario']\n"
     ]
    }
   ],
   "source": [
    "# 9. Filtrar mascotas prohibidas usando filter()\n",
    "prohibidas = [\"Mapache\", \"Tigre\", \"Serpiente Pitón\", \"Cocodrilo\", \"Oso\"]\n",
    "\n",
    "def filtrar_mascotas(lista_mascotas):\n",
    "    return list(filter(lambda mascota: mascota not in prohibidas, lista_mascotas))\n",
    "\n",
    "print(\"Mascotas permitidas:\", filtrar_mascotas([\"Perro\", \"Gato\", \"Tigre\", \"Canario\"]))"
   ]
  },
  {
   "cell_type": "code",
   "execution_count": 20,
   "id": "82b8e09e",
   "metadata": {},
   "outputs": [
    {
     "name": "stdout",
     "output_type": "stream",
     "text": [
      "Promedio: 2.0\n"
     ]
    }
   ],
   "source": [
    "# 10. Calcular el promedio de una lista. Si está vacía, lanzar excepción personalizada\n",
    "class ListaVaciaError(Exception):\n",
    "    pass\n",
    "\n",
    "def promedio(lista):\n",
    "    if len(lista) == 0:\n",
    "        raise ListaVaciaError(\"La lista está vacía, no se puede calcular el promedio.\")\n",
    "    suma = 0\n",
    "    for num in lista:\n",
    "        suma += num\n",
    "    return suma / len(lista)\n",
    "\n",
    "try:\n",
    "    print(\"Promedio:\", promedio([1, 2, 3]))\n",
    "except ListaVaciaError as e:\n",
    "    print(\"Error:\", e)"
   ]
  },
  {
   "cell_type": "code",
   "execution_count": 24,
   "id": "920a32fc",
   "metadata": {},
   "outputs": [
    {
     "name": "stdout",
     "output_type": "stream",
     "text": [
      "Edad válida: 25\n"
     ]
    }
   ],
   "source": [
    "# 11. Programa que pide la edad del usuario y maneja errores si no es numérica o está fuera del rango 0-120.\n",
    "try:\n",
    "    edad = int(input(\"Introduce tu edad: \"))\n",
    "    if edad < 0 or edad > 120:\n",
    "        raise ValueError(\"Edad fuera de rango.\")\n",
    "    print(\"Edad válida:\", edad)\n",
    "except ValueError as e:\n",
    "    print(\"Error:\", e)\n"
   ]
  },
  {
   "cell_type": "code",
   "execution_count": 26,
   "id": "c38bf374",
   "metadata": {},
   "outputs": [
    {
     "name": "stdout",
     "output_type": "stream",
     "text": [
      "Longitud de cada palabra: [4, 5]\n"
     ]
    }
   ],
   "source": [
    "# 12. Función que recibe una frase y devuelve una lista con la longitud de cada palabra usando map()\n",
    "def longitudes_palabras(frase):\n",
    "    palabras = frase.split()\n",
    "    return list(map(len, palabras))\n",
    "\n",
    "print(\"Longitud de cada palabra:\", longitudes_palabras(\"Hola mundo\"))"
   ]
  },
  {
   "cell_type": "code",
   "execution_count": 28,
   "id": "52676df5",
   "metadata": {},
   "outputs": [
    {
     "name": "stdout",
     "output_type": "stream",
     "text": [
      "Mayúsculas y minúsculas: [('T', 't'), ('O', 'o'), ('E', 'e'), ('P', 'p'), ('L', 'l'), ('A', 'a')]\n"
     ]
    }
   ],
   "source": [
    "# 13. Función que recibe un conjunto de caracteres y devuelve lista de tuplas con cada letra en mayúsculas y minúsculas sin repetir\n",
    "def mayus_minus(conjunto):\n",
    "    unicas = set(conjunto)\n",
    "    return list(map(lambda c: (c.upper(), c.lower()), unicas))\n",
    "\n",
    "print(\"Mayúsculas y minúsculas:\", mayus_minus(\"pelota\"))"
   ]
  },
  {
   "cell_type": "code",
   "execution_count": 29,
   "id": "346d06fb",
   "metadata": {},
   "outputs": [
    {
     "name": "stdout",
     "output_type": "stream",
     "text": [
      "Palabras que empiezan con 'a': ['avión', 'auto']\n"
     ]
    }
   ],
   "source": [
    "# 14. Función que devuelve las palabras de una lista que comiencen con una letra específica usando filter()\n",
    "def palabras_por_letra(lista, letra):\n",
    "    return list(filter(lambda p: p.startswith(letra), lista))\n",
    "\n",
    "print(\"Palabras que empiezan con 'a':\", palabras_por_letra([\"avión\", \"casa\", \"árbol\", \"auto\"], \"a\"))\n"
   ]
  },
  {
   "cell_type": "code",
   "execution_count": 30,
   "id": "1a6140ba",
   "metadata": {},
   "outputs": [
    {
     "name": "stdout",
     "output_type": "stream",
     "text": [
      "Sumar 3 a cada número: [4, 8, 10]\n"
     ]
    }
   ],
   "source": [
    "# 15. Función lambda que suma 3 a cada número de una lista\n",
    "numeros = [1, 5, 7]\n",
    "suma_tres = list(map(lambda x: x + 3, numeros))\n",
    "print(\"Sumar 3 a cada número:\", suma_tres)"
   ]
  },
  {
   "cell_type": "code",
   "execution_count": 31,
   "id": "fe5be13c",
   "metadata": {},
   "outputs": [
    {
     "name": "stdout",
     "output_type": "stream",
     "text": [
      "Palabras más largas que 4 letras: ['montaña', 'cielo']\n"
     ]
    }
   ],
   "source": [
    "# 16. Función que devuelve palabras más largas que n usando filter()\n",
    "def palabras_mas_largas(lista, n):\n",
    "    return list(filter(lambda p: len(p) > n, lista))\n",
    "\n",
    "print(\"Palabras más largas que 4 letras:\", palabras_mas_largas([\"sol\", \"montaña\", \"cielo\", \"luz\"], 4))\n"
   ]
  },
  {
   "cell_type": "code",
   "execution_count": 32,
   "id": "0126ef26",
   "metadata": {},
   "outputs": [
    {
     "name": "stdout",
     "output_type": "stream",
     "text": [
      "Número formado: 572\n"
     ]
    }
   ],
   "source": [
    "# 17. Función que convierte una lista de dígitos en un número usando reduce()\n",
    "from functools import reduce\n",
    "def lista_a_numero(lista):\n",
    "    return reduce(lambda x, y: x * 10 + y, lista)\n",
    "\n",
    "print(\"Número formado:\", lista_a_numero([5, 7, 2]))"
   ]
  },
  {
   "cell_type": "code",
   "execution_count": 33,
   "id": "420503f2",
   "metadata": {},
   "outputs": [
    {
     "name": "stdout",
     "output_type": "stream",
     "text": [
      "Estudiantes con nota >=90: [{'nombre': 'Ana', 'edad': 20, 'nota': 95}, {'nombre': 'Marta', 'edad': 21, 'nota': 90}]\n"
     ]
    }
   ],
   "source": [
    "# 18. Programa que crea una lista de diccionarios de estudiantes y filtra los que tienen calificación >= 90 usando filter()\n",
    "estudiantes = [\n",
    "    {\"nombre\": \"Ana\", \"edad\": 20, \"nota\": 95},\n",
    "    {\"nombre\": \"Luis\", \"edad\": 22, \"nota\": 85},\n",
    "    {\"nombre\": \"Marta\", \"edad\": 21, \"nota\": 90}\n",
    "]\n",
    "aprobados = list(filter(lambda e: e[\"nota\"] >= 90, estudiantes))\n",
    "print(\"Estudiantes con nota >=90:\", aprobados)\n"
   ]
  },
  {
   "cell_type": "code",
   "execution_count": 34,
   "id": "447df816",
   "metadata": {},
   "outputs": [
    {
     "name": "stdout",
     "output_type": "stream",
     "text": [
      "Números impares: [1, 3, 5]\n"
     ]
    }
   ],
   "source": [
    "# 19. Función lambda que filtra los números impares de una lista\n",
    "numeros = [1, 2, 3, 4, 5, 6]\n",
    "impares = list(filter(lambda x: x % 2 != 0, numeros))\n",
    "print(\"Números impares:\", impares)"
   ]
  },
  {
   "cell_type": "code",
   "execution_count": 35,
   "id": "683bfa3e",
   "metadata": {},
   "outputs": [
    {
     "name": "stdout",
     "output_type": "stream",
     "text": [
      "Solo enteros: [10, 3, 7]\n"
     ]
    }
   ],
   "source": [
    "# 20. Filtrar valores enteros de una lista que tiene ints y strings usando filter()\n",
    "valores = [10, \"hola\", 3, \"mundo\", 7]\n",
    "enteros = list(filter(lambda x: isinstance(x, int), valores))\n",
    "print(\"Solo enteros:\", enteros)"
   ]
  },
  {
   "cell_type": "code",
   "execution_count": 36,
   "id": "bf6190f4",
   "metadata": {},
   "outputs": [
    {
     "name": "stdout",
     "output_type": "stream",
     "text": [
      "Cubo de 3: 27\n"
     ]
    }
   ],
   "source": [
    "# 21. Función que calcule el cubo de un número mediante una función lambda\n",
    "cubo = lambda x: x ** 3\n",
    "print(\"Cubo de 3:\", cubo(3))"
   ]
  },
  {
   "cell_type": "code",
   "execution_count": 37,
   "id": "57285c66",
   "metadata": {},
   "outputs": [
    {
     "name": "stdout",
     "output_type": "stream",
     "text": [
      "Producto total: 24\n"
     ]
    }
   ],
   "source": [
    "# 22. Dada una lista numérica, obtener el producto total de sus valores usando reduce()\n",
    "from functools import reduce\n",
    "numeros = [2, 3, 4]\n",
    "producto = reduce(lambda x, y: x * y, numeros)\n",
    "print(\"Producto total:\", producto)"
   ]
  },
  {
   "cell_type": "code",
   "execution_count": 40,
   "id": "8926ee9a",
   "metadata": {},
   "outputs": [
    {
     "name": "stdout",
     "output_type": "stream",
     "text": [
      "Frase concatenada: Hola mundo quiero comer\n"
     ]
    }
   ],
   "source": [
    "# 23. Concatena una lista de palabras usando reduce()\n",
    "palabras = [\"Hola\", \"mundo\", \"quiero\", \"comer\"]\n",
    "frase = reduce(lambda x, y: x + \" \" + y, palabras)\n",
    "print(\"Frase concatenada:\", frase)"
   ]
  },
  {
   "cell_type": "code",
   "execution_count": 41,
   "id": "ecde4317",
   "metadata": {},
   "outputs": [
    {
     "name": "stdout",
     "output_type": "stream",
     "text": [
      "Diferencia total: 70\n"
     ]
    }
   ],
   "source": [
    "# 24. Calcula la diferencia total en los valores de una lista usando reduce()\n",
    "numeros = [100, 20, 10]\n",
    "diferencia = reduce(lambda x, y: x - y, numeros)\n",
    "print(\"Diferencia total:\", diferencia)"
   ]
  },
  {
   "cell_type": "code",
   "execution_count": 42,
   "id": "4cff79ee",
   "metadata": {},
   "outputs": [
    {
     "name": "stdout",
     "output_type": "stream",
     "text": [
      "Número de caracteres: 10\n"
     ]
    }
   ],
   "source": [
    "# 25. Función que cuente el número de caracteres en una cadena de texto\n",
    "def contar_caracteres(cadena):\n",
    "    return len(cadena)\n",
    "\n",
    "print(\"Número de caracteres:\", contar_caracteres(\"Hola mundo\"))"
   ]
  },
  {
   "cell_type": "code",
   "execution_count": 43,
   "id": "4235631c",
   "metadata": {},
   "outputs": [
    {
     "name": "stdout",
     "output_type": "stream",
     "text": [
      "Resto de 10 % 3: 1\n"
     ]
    }
   ],
   "source": [
    "# 26. Función lambda que calcule el resto de la división entre dos números dados\n",
    "resto = lambda x, y: x % y\n",
    "print(\"Resto de 10 % 3:\", resto(10, 3))\n"
   ]
  },
  {
   "cell_type": "code",
   "execution_count": 44,
   "id": "25539757",
   "metadata": {},
   "outputs": [
    {
     "name": "stdout",
     "output_type": "stream",
     "text": [
      "Promedio: 7.0\n"
     ]
    }
   ],
   "source": [
    "# 27. Función que calcule el promedio de una lista de números\n",
    "def promedio(lista):\n",
    "    suma = 0\n",
    "    for num in lista:\n",
    "        suma += num\n",
    "    return suma / len(lista)\n",
    "\n",
    "print(\"Promedio:\", promedio([5, 7, 9]))"
   ]
  },
  {
   "cell_type": "code",
   "execution_count": 45,
   "id": "474eaa91",
   "metadata": {},
   "outputs": [
    {
     "name": "stdout",
     "output_type": "stream",
     "text": [
      "Primer duplicado: 3\n"
     ]
    }
   ],
   "source": [
    "# 28. Función que busque y devuelva el primer elemento duplicado en una lista dada\n",
    "def primer_duplicado(lista):\n",
    "    vistos = set()\n",
    "    for elemento in lista:\n",
    "        if elemento in vistos:\n",
    "            return elemento\n",
    "        vistos.add(elemento)\n",
    "    return None\n",
    "\n",
    "print(\"Primer duplicado:\", primer_duplicado([1, 3, 5, 3, 7]))"
   ]
  },
  {
   "cell_type": "code",
   "execution_count": 46,
   "id": "d61d8eb9",
   "metadata": {},
   "outputs": [
    {
     "name": "stdout",
     "output_type": "stream",
     "text": [
      "Enmascarado: #####6789\n"
     ]
    }
   ],
   "source": [
    "# 29. Función que convierte una variable en string y enmascara todos los caracteres con '#' excepto los últimos cuatro\n",
    "def enmascarar(variable):\n",
    "    s = str(variable)\n",
    "    if len(s) <= 4:\n",
    "        return s\n",
    "    return \"#\" * (len(s) - 4) + s[-4:]\n",
    "\n",
    "print(\"Enmascarado:\", enmascarar(\"123456789\"))"
   ]
  },
  {
   "cell_type": "code",
   "execution_count": 47,
   "id": "b140f3a4",
   "metadata": {},
   "outputs": [
    {
     "name": "stdout",
     "output_type": "stream",
     "text": [
      "¿'roma' y 'amor' son anagramas?: True\n"
     ]
    }
   ],
   "source": [
    "# 30. Función que determine si dos palabras son anagramas (mismas letras en distinto orden)\n",
    "def son_anagramas(palabra1, palabra2):\n",
    "    return sorted(palabra1) == sorted(palabra2)\n",
    "\n",
    "print(\"¿'roma' y 'amor' son anagramas?:\", son_anagramas(\"roma\", \"amor\"))"
   ]
  },
  {
   "cell_type": "code",
   "execution_count": 81,
   "id": "1ea984ff",
   "metadata": {},
   "outputs": [
    {
     "name": "stdout",
     "output_type": "stream",
     "text": [
      "María fue encontrado en la lista.\n"
     ]
    }
   ],
   "source": [
    "# 31. Solicitar al usuario una lista de nombres y luego buscar un nombre en esa lista.\n",
    "def buscar_nombre():\n",
    "    nombres = input(\"Introduce nombres separados por comas: \").split(\",\")\n",
    "    nombre_buscar = input(\"Introduce el nombre a buscar: \")\n",
    "    try:\n",
    "        if nombre_buscar in nombres:\n",
    "            print(f\"{nombre_buscar} fue encontrado en la lista.\")\n",
    "        else:\n",
    "            raise ValueError(f\"{nombre_buscar} no está en la lista.\")\n",
    "    except ValueError as e:\n",
    "        print(e)\n",
    "\n",
    "buscar_nombre()\n"
   ]
  },
  {
   "cell_type": "code",
   "execution_count": 64,
   "id": "deff43f3",
   "metadata": {},
   "outputs": [
    {
     "name": "stdout",
     "output_type": "stream",
     "text": [
      "Analista\n",
      "Esa persona no trabaja aquí.\n"
     ]
    }
   ],
   "source": [
    "# 32. Buscar el puesto de un empleado por su nombre completo.\n",
    "def buscar_puesto(nombre, empleados):\n",
    "    for empleado in empleados:\n",
    "        if empleado[0] == nombre:\n",
    "            return empleado[1]\n",
    "    return \"Esa persona no trabaja aquí.\"\n",
    "\n",
    "empleados = [(\"Juan Pérez\", \"Analista\"), (\"María López\", \"Gerente\"), (\"Pedro Ruiz\", \"Desarrollador\")]\n",
    "print(buscar_puesto(\"Juan Pérez\", empleados))\n",
    "print(buscar_puesto(\"Ana Gómez\", empleados))\n"
   ]
  },
  {
   "cell_type": "code",
   "execution_count": 65,
   "id": "88480684",
   "metadata": {},
   "outputs": [
    {
     "name": "stdout",
     "output_type": "stream",
     "text": [
      "[5, 7, 9]\n"
     ]
    }
   ],
   "source": [
    "# 33. Lambda que sume elementos correspondientes de dos listas.\n",
    "suma_listas = lambda lista1, lista2: list(map(lambda x, y: x + y, lista1, lista2))\n",
    "print(suma_listas([1, 2, 3], [4, 5, 6]))\n"
   ]
  },
  {
   "cell_type": "code",
   "execution_count": 68,
   "id": "c0863462",
   "metadata": {},
   "outputs": [
    {
     "name": "stdout",
     "output_type": "stream",
     "text": [
      "Tronco: 2, Número de ramas: 2, Longitudes: [2, 1]\n"
     ]
    }
   ],
   "source": [
    "# 34. Clase Árbol con métodos para manipular su estructura.\n",
    "class Arbol:\n",
    "    def __init__(self):\n",
    "        self.tronco = 1\n",
    "        self.ramas = []\n",
    "\n",
    "    def crecer_tronco(self):\n",
    "        self.tronco += 1\n",
    "\n",
    "    def nueva_rama(self):\n",
    "        self.ramas.append(1)\n",
    "\n",
    "    def crecer_ramas(self):\n",
    "        self.ramas = [rama + 1 for rama in self.ramas]\n",
    "\n",
    "    def quitar_rama(self, posicion):\n",
    "        if 0 <= posicion < len(self.ramas):\n",
    "            self.ramas.pop(posicion)\n",
    "\n",
    "    def info_arbol(self):\n",
    "        return f\"Tronco: {self.tronco}, Número de ramas: {len(self.ramas)}, Longitudes: {self.ramas}\"\n",
    "\n",
    "arbol = Arbol()\n",
    "arbol.crecer_tronco()\n",
    "arbol.nueva_rama()\n",
    "arbol.crecer_ramas()\n",
    "arbol.nueva_rama()\n",
    "arbol.nueva_rama()\n",
    "arbol.quitar_rama(2)\n",
    "print(arbol.info_arbol())"
   ]
  },
  {
   "cell_type": "code",
   "execution_count": 83,
   "id": "1aa7698a",
   "metadata": {},
   "outputs": [
    {
     "name": "stdout",
     "output_type": "stream",
     "text": [
      "Bob ha agregado 40. Saldo actual: 90\n",
      "Transferencia de 80 de Bob a Alicia realizada con éxito.\n",
      "Alicia ha retirado 50. Saldo actual: 130\n",
      "Saldo final de Alicia: 130\n",
      "Saldo final de Bob: 10\n"
     ]
    }
   ],
   "source": [
    "# 36. Clase UsuarioBanco con operaciones básicas.\n",
    "class UsuarioBanco:\n",
    "    def __init__(self, nombre, saldo, cuenta_corriente):\n",
    "        self.nombre = nombre\n",
    "        self.saldo = saldo\n",
    "        self.cuenta_corriente = cuenta_corriente\n",
    "\n",
    "    def retirar_dinero(self, cantidad):\n",
    "        if self.saldo >= cantidad:\n",
    "            self.saldo -= cantidad\n",
    "            print(f\"{self.nombre} ha retirado {cantidad}. Saldo actual: {self.saldo}\")\n",
    "        else:\n",
    "            raise ValueError(\"Saldo insuficiente.\")\n",
    "\n",
    "    def transferir_dinero(self, otro_usuario, cantidad):\n",
    "        if self.saldo >= cantidad:\n",
    "            self.saldo -= cantidad\n",
    "            otro_usuario.saldo += cantidad\n",
    "            print(f\"Transferencia de {cantidad} de {self.nombre} a {otro_usuario.nombre} realizada con éxito.\")\n",
    "        else:\n",
    "            raise ValueError(\"Transferencia no posible por saldo insuficiente.\")\n",
    "\n",
    "    def agregar_dinero(self, cantidad):\n",
    "        self.saldo += cantidad\n",
    "        print(f\"{self.nombre} ha agregado {cantidad}. Saldo actual: {self.saldo}\")\n",
    "\n",
    "try:\n",
    "    usuario1 = UsuarioBanco(\"Alicia\", 100, True)\n",
    "    usuario2 = UsuarioBanco(\"Bob\", 50, True)\n",
    "\n",
    "    usuario2.agregar_dinero(40)          # Bob ahora tiene 90\n",
    "    usuario2.transferir_dinero(usuario1, 80)  \n",
    "    usuario1.retirar_dinero(50)          \n",
    "\n",
    "    print(f\"Saldo final de {usuario1.nombre}: {usuario1.saldo}\")\n",
    "    print(f\"Saldo final de {usuario2.nombre}: {usuario2.saldo}\")\n",
    "\n",
    "except ValueError as e:\n",
    "    print(\"Error:\", e)"
   ]
  },
  {
   "cell_type": "code",
   "execution_count": 71,
   "id": "f5ff1a33",
   "metadata": {},
   "outputs": [
    {
     "name": "stdout",
     "output_type": "stream",
     "text": [
      "{'hola': 2, 'mundo': 1}\n",
      "hola Python\n",
      "hola\n"
     ]
    }
   ],
   "source": [
    "# 37. Procesar texto según opción elegida.\n",
    "def contar_palabras(texto):\n",
    "    palabras = texto.split()\n",
    "    contador = {}\n",
    "    for palabra in palabras:\n",
    "        contador[palabra] = contador.get(palabra, 0) + 1\n",
    "    return contador\n",
    "\n",
    "def reemplazar_palabras(texto, palabra_original, palabra_nueva):\n",
    "    return texto.replace(palabra_original, palabra_nueva)\n",
    "\n",
    "def eliminar_palabra(texto, palabra_eliminar):\n",
    "    return \" \".join([p for p in texto.split() if p != palabra_eliminar])\n",
    "\n",
    "def procesar_texto(texto, opcion, *args):\n",
    "    if opcion == \"contar\":\n",
    "        return contar_palabras(texto)\n",
    "    elif opcion == \"reemplazar\":\n",
    "        return reemplazar_palabras(texto, *args)\n",
    "    elif opcion == \"eliminar\":\n",
    "        return eliminar_palabra(texto, *args)\n",
    "    else:\n",
    "        return \"Opción no válida.\"\n",
    "\n",
    "print(procesar_texto(\"hola hola mundo\", \"contar\"))\n",
    "print(procesar_texto(\"hola mundo\", \"reemplazar\", \"mundo\", \"Python\"))\n",
    "print(procesar_texto(\"hola mundo mundo\", \"eliminar\", \"mundo\"))"
   ]
  },
  {
   "cell_type": "code",
   "execution_count": 72,
   "id": "9bc3d23f",
   "metadata": {},
   "outputs": [
    {
     "name": "stdout",
     "output_type": "stream",
     "text": [
      "Es de noche.\n"
     ]
    }
   ],
   "source": [
    "# 38. Determinar si es de noche, de día o tarde según la hora.\n",
    "hora = int(input(\"Introduce la hora (0-23): \"))\n",
    "if 6 <= hora < 12:\n",
    "    print(\"Es de día (mañana).\")\n",
    "elif 12 <= hora < 20:\n",
    "    print(\"Es de tarde.\")\n",
    "else:\n",
    "    print(\"Es de noche.\")"
   ]
  },
  {
   "cell_type": "code",
   "execution_count": 73,
   "id": "dd8e77bb",
   "metadata": {},
   "outputs": [
    {
     "name": "stdout",
     "output_type": "stream",
     "text": [
      "Insuficiente\n"
     ]
    }
   ],
   "source": [
    "# 39. Determinar la calificación en texto según nota numérica.\n",
    "nota = int(input(\"Introduce tu calificación (0-100): \"))\n",
    "if 0 <= nota <= 69:\n",
    "    print(\"Insuficiente\")\n",
    "elif 70 <= nota <= 79:\n",
    "    print(\"Bien\")\n",
    "elif 80 <= nota <= 89:\n",
    "    print(\"Muy bien\")\n",
    "elif 90 <= nota <= 100:\n",
    "    print(\"Excelente\")\n",
    "else:\n",
    "    print(\"Valor inválido.\")"
   ]
  },
  {
   "cell_type": "code",
   "execution_count": 74,
   "id": "015a9729",
   "metadata": {},
   "outputs": [
    {
     "name": "stdout",
     "output_type": "stream",
     "text": [
      "15\n",
      "50.26548245743669\n",
      "6.0\n"
     ]
    }
   ],
   "source": [
    "# 40. Calcular el área de figuras.\n",
    "import math\n",
    "\n",
    "def calcular_area(figura, datos):\n",
    "    if figura == \"rectangulo\":\n",
    "        return datos[0] * datos[1]\n",
    "    elif figura == \"circulo\":\n",
    "        return math.pi * (datos[0] ** 2)\n",
    "    elif figura == \"triangulo\":\n",
    "        return (datos[0] * datos[1]) / 2\n",
    "    else:\n",
    "        return \"Figura no válida.\"\n",
    "\n",
    "print(calcular_area(\"rectangulo\", (5, 3)))\n",
    "print(calcular_area(\"circulo\", (4,)))\n",
    "print(calcular_area(\"triangulo\", (6, 2)))"
   ]
  },
  {
   "cell_type": "code",
   "execution_count": null,
   "id": "23457cbd",
   "metadata": {},
   "outputs": [
    {
     "name": "stdout",
     "output_type": "stream",
     "text": [
      "El precio final es: 10.0\n"
     ]
    }
   ],
   "source": [
    "# 41. Calcular precio final de compra con descuento.\n",
    "precio = float(input(\"Introduce el precio original del artículo: \"))\n",
    "tiene_cupon = input(\"¿Tienes cupón de descuento? (sí/no): \").lower()\n",
    "\n",
    "if tiene_cupon == \"sí\":\n",
    "    valor_cupon = float(input(\"Introduce el valor del cupón: \"))\n",
    "    if valor_cupon > 0:\n",
    "        precio -= valor_cupon\n",
    "\n",
    "print(f\"El precio final es: {precio}\")"
   ]
  }
 ],
 "metadata": {
  "kernelspec": {
   "display_name": "Python 3",
   "language": "python",
   "name": "python3"
  },
  "language_info": {
   "codemirror_mode": {
    "name": "ipython",
    "version": 3
   },
   "file_extension": ".py",
   "mimetype": "text/x-python",
   "name": "python",
   "nbconvert_exporter": "python",
   "pygments_lexer": "ipython3",
   "version": "3.13.7"
  }
 },
 "nbformat": 4,
 "nbformat_minor": 5
}
